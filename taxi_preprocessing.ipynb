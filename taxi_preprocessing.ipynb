{
 "cells": [
  {
   "cell_type": "code",
   "execution_count": 13,
   "metadata": {},
   "outputs": [],
   "source": [
    "import pandas as pd\n",
    "import numpy as np\n",
    "import matplotlib.pyplot as plt\n",
    "%matplotlib inline"
   ]
  },
  {
   "cell_type": "code",
   "execution_count": 14,
   "metadata": {},
   "outputs": [],
   "source": [
    "taxi = pd.read_csv('taxi_107_intermediate.csv')"
   ]
  },
  {
   "cell_type": "code",
   "execution_count": 4,
   "metadata": {
    "scrolled": true
   },
   "outputs": [
    {
     "data": {
      "text/html": [
       "<div>\n",
       "<style scoped>\n",
       "    .dataframe tbody tr th:only-of-type {\n",
       "        vertical-align: middle;\n",
       "    }\n",
       "\n",
       "    .dataframe tbody tr th {\n",
       "        vertical-align: top;\n",
       "    }\n",
       "\n",
       "    .dataframe thead th {\n",
       "        text-align: right;\n",
       "    }\n",
       "</style>\n",
       "<table border=\"1\" class=\"dataframe\">\n",
       "  <thead>\n",
       "    <tr style=\"text-align: right;\">\n",
       "      <th></th>\n",
       "      <th>Unnamed: 0</th>\n",
       "      <th>Unnamed: 0.1</th>\n",
       "      <th>trip_seconds</th>\n",
       "      <th>trip_miles</th>\n",
       "      <th>pickup_community_area</th>\n",
       "      <th>dropoff_community_area</th>\n",
       "      <th>trip_total</th>\n",
       "      <th>trip_date</th>\n",
       "      <th>trip_timestamp</th>\n",
       "      <th>trip_hour</th>\n",
       "      <th>trip_day</th>\n",
       "      <th>weekend</th>\n",
       "    </tr>\n",
       "  </thead>\n",
       "  <tbody>\n",
       "    <tr>\n",
       "      <th>0</th>\n",
       "      <td>0</td>\n",
       "      <td>0</td>\n",
       "      <td>180.0</td>\n",
       "      <td>0.4</td>\n",
       "      <td>24.0</td>\n",
       "      <td>24.0</td>\n",
       "      <td>4.50</td>\n",
       "      <td>2016-01-13</td>\n",
       "      <td>06:15:00</td>\n",
       "      <td>6</td>\n",
       "      <td>Wednesday</td>\n",
       "      <td>0</td>\n",
       "    </tr>\n",
       "    <tr>\n",
       "      <th>1</th>\n",
       "      <td>1</td>\n",
       "      <td>1</td>\n",
       "      <td>60.0</td>\n",
       "      <td>0.2</td>\n",
       "      <td>16.0</td>\n",
       "      <td>16.0</td>\n",
       "      <td>3.75</td>\n",
       "      <td>2016-01-26</td>\n",
       "      <td>04:15:00</td>\n",
       "      <td>4</td>\n",
       "      <td>Tuesday</td>\n",
       "      <td>0</td>\n",
       "    </tr>\n",
       "    <tr>\n",
       "      <th>2</th>\n",
       "      <td>2</td>\n",
       "      <td>3</td>\n",
       "      <td>480.0</td>\n",
       "      <td>0.1</td>\n",
       "      <td>41.0</td>\n",
       "      <td>69.0</td>\n",
       "      <td>9.00</td>\n",
       "      <td>2016-01-03</td>\n",
       "      <td>07:45:00</td>\n",
       "      <td>7</td>\n",
       "      <td>Sunday</td>\n",
       "      <td>1</td>\n",
       "    </tr>\n",
       "    <tr>\n",
       "      <th>3</th>\n",
       "      <td>3</td>\n",
       "      <td>6</td>\n",
       "      <td>840.0</td>\n",
       "      <td>0.4</td>\n",
       "      <td>41.0</td>\n",
       "      <td>8.0</td>\n",
       "      <td>22.00</td>\n",
       "      <td>2016-01-12</td>\n",
       "      <td>15:30:00</td>\n",
       "      <td>15</td>\n",
       "      <td>Tuesday</td>\n",
       "      <td>0</td>\n",
       "    </tr>\n",
       "    <tr>\n",
       "      <th>4</th>\n",
       "      <td>4</td>\n",
       "      <td>9</td>\n",
       "      <td>480.0</td>\n",
       "      <td>1.6</td>\n",
       "      <td>32.0</td>\n",
       "      <td>8.0</td>\n",
       "      <td>7.75</td>\n",
       "      <td>2016-01-18</td>\n",
       "      <td>15:45:00</td>\n",
       "      <td>15</td>\n",
       "      <td>Monday</td>\n",
       "      <td>0</td>\n",
       "    </tr>\n",
       "  </tbody>\n",
       "</table>\n",
       "</div>"
      ],
      "text/plain": [
       "   Unnamed: 0  Unnamed: 0.1  trip_seconds  trip_miles  pickup_community_area  \\\n",
       "0           0             0         180.0         0.4                   24.0   \n",
       "1           1             1          60.0         0.2                   16.0   \n",
       "2           2             3         480.0         0.1                   41.0   \n",
       "3           3             6         840.0         0.4                   41.0   \n",
       "4           4             9         480.0         1.6                   32.0   \n",
       "\n",
       "   dropoff_community_area  trip_total   trip_date trip_timestamp  trip_hour  \\\n",
       "0                    24.0        4.50  2016-01-13       06:15:00          6   \n",
       "1                    16.0        3.75  2016-01-26       04:15:00          4   \n",
       "2                    69.0        9.00  2016-01-03       07:45:00          7   \n",
       "3                     8.0       22.00  2016-01-12       15:30:00         15   \n",
       "4                     8.0        7.75  2016-01-18       15:45:00         15   \n",
       "\n",
       "    trip_day  weekend  \n",
       "0  Wednesday        0  \n",
       "1    Tuesday        0  \n",
       "2     Sunday        1  \n",
       "3    Tuesday        0  \n",
       "4     Monday        0  "
      ]
     },
     "execution_count": 4,
     "metadata": {},
     "output_type": "execute_result"
    }
   ],
   "source": [
    "taxi.head()"
   ]
  },
  {
   "cell_type": "code",
   "execution_count": null,
   "metadata": {},
   "outputs": [],
   "source": [
    "#Separate trip_time_stamp to date and time\n",
    "#Create a new column for trip_hour\n",
    "new = taxi['trip_start_timestamp'].str.split(\" \",n=1,expand=True)\n",
    "taxi['trip_date'],taxi['trip_timestamp'] = new[0],new[1]\n",
    "taxi['trip_hour'] = pd.to_datetime(taxi['trip_start_timestamp']).dt.hour\n",
    "\n",
    "taxi.drop(columns='trip_start_timestamp',inplace=True)\n",
    "taxi['trip_date'] = pd.to_datetime(taxi['trip_date'])\n",
    "taxi['trip_day'] = taxi['trip_date'].dt.day_name()\n",
    "taxi['weekend'] = taxi['trip_day'].apply(lambda x: 1 if (x == 'Sunday' or x == 'Saturday') else 0)"
   ]
  },
  {
   "cell_type": "code",
   "execution_count": 16,
   "metadata": {},
   "outputs": [],
   "source": [
    "taxi1.to_csv('taxi_107_intermediate1.csv')"
   ]
  }
 ],
 "metadata": {
  "kernelspec": {
   "display_name": "Python 3",
   "language": "python",
   "name": "python3"
  },
  "language_info": {
   "codemirror_mode": {
    "name": "ipython",
    "version": 3
   },
   "file_extension": ".py",
   "mimetype": "text/x-python",
   "name": "python",
   "nbconvert_exporter": "python",
   "pygments_lexer": "ipython3",
   "version": "3.6.8"
  }
 },
 "nbformat": 4,
 "nbformat_minor": 2
}
