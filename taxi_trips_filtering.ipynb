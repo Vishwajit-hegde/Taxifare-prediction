{
 "cells": [
  {
   "cell_type": "code",
   "execution_count": 17,
   "metadata": {},
   "outputs": [],
   "source": [
    "import pandas as pd"
   ]
  },
  {
   "cell_type": "code",
   "execution_count": 56,
   "metadata": {},
   "outputs": [],
   "source": [
    "#Reading from 12 different csv files and storing them in a dictionary\n",
    "taxi_trips = {}\n",
    "for i in range(1,9):\n",
    "    taxi_trips[i] = pd.read_csv('chicago_taxi_trips_2016_0'+str(i)+'.csv')\n",
    "for i in range(10,13):\n",
    "    taxi_trips[i] = pd.read_csv('chicago_taxi_trips_2016_'+str(i)+'.csv')"
   ]
  },
  {
   "cell_type": "code",
   "execution_count": 60,
   "metadata": {},
   "outputs": [],
   "source": [
    "#Creating a separate dictionary for transactions belonging to the largest taxi company in Chicago\n",
    "taxi_trips_107 = {}\n",
    "for i in range(1,13):\n",
    "    taxi_trips_107[i] = taxi_trips[i][taxi_trips[i].company == 107.0]"
   ]
  },
  {
   "cell_type": "code",
   "execution_count": 64,
   "metadata": {},
   "outputs": [],
   "source": [
    "#concatenating all observations into a single DataFrame\n",
    "taxi_107 = pd.concat([df for k,df in taxi_trips_107.items()])"
   ]
  },
  {
   "cell_type": "code",
   "execution_count": 65,
   "metadata": {},
   "outputs": [],
   "source": [
    "#Writing the DataFrame into a new csv file\n",
    "taxi_107.to_csv('taxi_107.csv')"
   ]
  }
 ],
 "metadata": {
  "kernelspec": {
   "display_name": "Python 3",
   "language": "python",
   "name": "python3"
  },
  "language_info": {
   "codemirror_mode": {
    "name": "ipython",
    "version": 3
   },
   "file_extension": ".py",
   "mimetype": "text/x-python",
   "name": "python",
   "nbconvert_exporter": "python",
   "pygments_lexer": "ipython3",
   "version": "3.6.8"
  }
 },
 "nbformat": 4,
 "nbformat_minor": 2
}
